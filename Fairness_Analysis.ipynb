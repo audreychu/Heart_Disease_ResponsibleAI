{
 "cells": [
  {
   "cell_type": "markdown",
   "metadata": {},
   "source": [
    "<a id=\"top\"></a>  \n",
    "# Fairness Analysis of Heart Disease Model\n",
    "---\n"
   ]
  },
  {
   "cell_type": "markdown",
   "metadata": {},
   "source": [
    "The first sections (through Evaluation) are from the original Kaggle code\n",
    "---\n",
    "#  Data Collection <a id=\"coll\"></a>\n",
    "Import Python libraries and load the dataset."
   ]
  },
  {
   "cell_type": "code",
   "execution_count": 113,
   "metadata": {},
   "outputs": [],
   "source": [
    "import pandas as pd\n",
    "import matplotlib.pyplot as plt\n",
    "import seaborn as sns\n",
    "\n",
    "%matplotlib inline\n",
    "import warnings\n",
    "warnings.filterwarnings('ignore')\n",
    "\n",
    "import os"
   ]
  },
  {
   "cell_type": "code",
   "execution_count": 114,
   "metadata": {},
   "outputs": [
    {
     "data": {
      "text/plain": [
       "(303, 14)"
      ]
     },
     "execution_count": 114,
     "metadata": {},
     "output_type": "execute_result"
    }
   ],
   "source": [
    "df = pd.read_csv('heart.csv')\n",
    "df.shape"
   ]
  },
  {
   "cell_type": "markdown",
   "metadata": {},
   "source": [
    "[go to top of document](#top)     \n",
    "\n",
    "---\n",
    "#  Data Preparation <a id=\"prep\"></a>"
   ]
  },
  {
   "cell_type": "markdown",
   "metadata": {},
   "source": [
    "## Check for NULLs/Duplicates <a id=\"prep_null\"></a>\n",
    "Cleaning up the NULL and duplicate values in the dataset."
   ]
  },
  {
   "cell_type": "code",
   "execution_count": 115,
   "metadata": {
    "_kg_hide-input": true,
    "scrolled": false
   },
   "outputs": [
    {
     "name": "stdout",
     "output_type": "stream",
     "text": [
      "\n",
      "--- NULL count ---\n",
      "age         0\n",
      "sex         0\n",
      "cp          0\n",
      "trestbps    0\n",
      "chol        0\n",
      "fbs         0\n",
      "restecg     0\n",
      "thalach     0\n",
      "exang       0\n",
      "oldpeak     0\n",
      "slope       0\n",
      "ca          0\n",
      "thal        0\n",
      "target      0\n",
      "dtype: int64\n",
      "\n",
      "1st DUPLICATE count:\t1\n",
      "2nd DUPLICATE count:\t0\n"
     ]
    }
   ],
   "source": [
    "#  check for NULL values\n",
    "print('\\n--- NULL count ---\\n{}'.format(df.isnull().sum()))\n",
    "#df.dropna(inplace=True)             #  drop NULLs\n",
    "\n",
    "#  check for DUPLICATES\n",
    "print('\\n1st DUPLICATE count:\\t{}'.format(df.duplicated().sum()))\n",
    "df.drop_duplicates(inplace = True)  #  drop duplitcates\n",
    "print('2nd DUPLICATE count:\\t{}'.format(df.duplicated().sum()))"
   ]
  },
  {
   "cell_type": "markdown",
   "metadata": {},
   "source": [
    "## Feature Engineering <a id=\"prep_name\"></a>\n",
    "Rename columns (attributes) for better readability.\n",
    "\n",
    "| Original Attribute Name | New Attribute Name   |  Description |\n",
    "| :-- | :--  | :--- |\n",
    "|**age**|age|age of patient\n",
    "|**sex**|sex|sex of patient:  0 = female; 1 = male\n",
    "|**cp**|chest_pain_type|chest pain type (4 values)\n",
    "|**trestbps**|resting_blood_pressure|resting blood pressure\n",
    "|**chol**|cholestoral|serum cholestoral in mg/dl\n",
    "|**fbs**|fasting_blood_sugar|fasting blood sugar > 120 mg/dl\n",
    "|**restecg**|resting_electrocardiographic|resting electrocardiographic results (values 0,1,2)\n",
    "|**thalach**|maximum_heart_rate|maximum heart rate achieved\n",
    "|**exang**|exercise_induced_angina|exercise induced angina\n",
    "|**oldpeak**|ST_depression|oldpeak = ST depression induced by exercise relative to rest\n",
    "|**slope**|slope_peak_exercise_ST|slope of the peak exercise ST segment\n",
    "|**ca**|number_of_major_vessels|number of major vessels (0-3) colored by flourosopy\n",
    "|**thal**|thal|thal: 3 = normal; 6 = fixed defect; 7 = reversable defect"
   ]
  },
  {
   "cell_type": "code",
   "execution_count": 116,
   "metadata": {},
   "outputs": [
    {
     "name": "stdout",
     "output_type": "stream",
     "text": [
      "['age', 'sex', 'chest_pain_type', 'resting_blood_pressure', 'cholestoral', 'fasting_blood_sugar', 'resting_electrocardiographic', 'maximum_heart_rate', 'exercise_induced_angina', 'ST_depression', 'slope_peak_exercise_ST', 'number_of_major_vessels', 'thal', 'target']\n"
     ]
    }
   ],
   "source": [
    "df.rename(columns={\n",
    "        'cp':'chest_pain_type', 'trestbps':'resting_blood_pressure',\n",
    "        'chol':'cholestoral','fbs':'fasting_blood_sugar',\n",
    "        'restecg':'resting_electrocardiographic','thalach':'maximum_heart_rate',\n",
    "        'exang':'exercise_induced_angina','oldpeak':'ST_depression',\n",
    "        'slope':'slope_peak_exercise_ST','ca':'number_of_major_vessels'},\n",
    "    inplace=True)\n",
    "\n",
    "print(df.columns.tolist())"
   ]
  },
  {
   "cell_type": "markdown",
   "metadata": {},
   "source": [
    "**Update categorical attribute values (features) for better readability & plotting.**\n",
    "\n",
    "| Attribute   | Updated Feature Values \n",
    "| :-- | :-- \n",
    "|**sex** |0:female<br>1:male|\n",
    "|**chest_pain_type** | 0:typical angina<br>1:atypical angina<br><br>2:non-anginal<br>3:asymptomatic|\n",
    "|**fasting_blood_sugar** |0:> 120 mg/dl<br>1:< 120 mg/dl|\n",
    "|**resting_electrocardiographic** |0:normal<br>1:ST-T wave abnormality<br>2:ventricular hypertrophy|\n",
    "|**exercise_induced_angina** |0:no<br>1:yes|\n",
    "|**slope_peak_exercise_ST** |0:upsloping<br>1:flat<br>2:downsloping|\n",
    "|**thal** |0:normal 0<br>1:normal 1<br>2:fixed defect<br>3:reversable defect|\n",
    "|**target** |0:no disease<br>1:disease|"
   ]
  },
  {
   "cell_type": "code",
   "execution_count": 117,
   "metadata": {
    "_kg_hide-input": true
   },
   "outputs": [
    {
     "data": {
      "text/html": [
       "<div>\n",
       "<style scoped>\n",
       "    .dataframe tbody tr th:only-of-type {\n",
       "        vertical-align: middle;\n",
       "    }\n",
       "\n",
       "    .dataframe tbody tr th {\n",
       "        vertical-align: top;\n",
       "    }\n",
       "\n",
       "    .dataframe thead th {\n",
       "        text-align: right;\n",
       "    }\n",
       "</style>\n",
       "<table border=\"1\" class=\"dataframe\">\n",
       "  <thead>\n",
       "    <tr style=\"text-align: right;\">\n",
       "      <th></th>\n",
       "      <th>age</th>\n",
       "      <th>sex</th>\n",
       "      <th>chest_pain_type</th>\n",
       "      <th>resting_blood_pressure</th>\n",
       "      <th>cholestoral</th>\n",
       "      <th>fasting_blood_sugar</th>\n",
       "      <th>resting_electrocardiographic</th>\n",
       "      <th>maximum_heart_rate</th>\n",
       "      <th>exercise_induced_angina</th>\n",
       "      <th>ST_depression</th>\n",
       "      <th>slope_peak_exercise_ST</th>\n",
       "      <th>number_of_major_vessels</th>\n",
       "      <th>thal</th>\n",
       "      <th>target</th>\n",
       "    </tr>\n",
       "  </thead>\n",
       "  <tbody>\n",
       "    <tr>\n",
       "      <th>0</th>\n",
       "      <td>63</td>\n",
       "      <td>male</td>\n",
       "      <td>asymptomatic</td>\n",
       "      <td>145</td>\n",
       "      <td>233</td>\n",
       "      <td>&lt; 120 mg/dl</td>\n",
       "      <td>normal</td>\n",
       "      <td>150</td>\n",
       "      <td>no</td>\n",
       "      <td>2.3</td>\n",
       "      <td>upsloping</td>\n",
       "      <td>0</td>\n",
       "      <td>normal 1</td>\n",
       "      <td>disease</td>\n",
       "    </tr>\n",
       "    <tr>\n",
       "      <th>1</th>\n",
       "      <td>37</td>\n",
       "      <td>male</td>\n",
       "      <td>non-anginal</td>\n",
       "      <td>130</td>\n",
       "      <td>250</td>\n",
       "      <td>&gt; 120 mg/dl</td>\n",
       "      <td>ST-T wave abnormality</td>\n",
       "      <td>187</td>\n",
       "      <td>no</td>\n",
       "      <td>3.5</td>\n",
       "      <td>upsloping</td>\n",
       "      <td>0</td>\n",
       "      <td>fixed defect</td>\n",
       "      <td>disease</td>\n",
       "    </tr>\n",
       "    <tr>\n",
       "      <th>2</th>\n",
       "      <td>41</td>\n",
       "      <td>female</td>\n",
       "      <td>atypical angina</td>\n",
       "      <td>130</td>\n",
       "      <td>204</td>\n",
       "      <td>&gt; 120 mg/dl</td>\n",
       "      <td>normal</td>\n",
       "      <td>172</td>\n",
       "      <td>no</td>\n",
       "      <td>1.4</td>\n",
       "      <td>downsloping</td>\n",
       "      <td>0</td>\n",
       "      <td>fixed defect</td>\n",
       "      <td>disease</td>\n",
       "    </tr>\n",
       "    <tr>\n",
       "      <th>3</th>\n",
       "      <td>56</td>\n",
       "      <td>male</td>\n",
       "      <td>atypical angina</td>\n",
       "      <td>120</td>\n",
       "      <td>236</td>\n",
       "      <td>&gt; 120 mg/dl</td>\n",
       "      <td>ST-T wave abnormality</td>\n",
       "      <td>178</td>\n",
       "      <td>no</td>\n",
       "      <td>0.8</td>\n",
       "      <td>downsloping</td>\n",
       "      <td>0</td>\n",
       "      <td>fixed defect</td>\n",
       "      <td>disease</td>\n",
       "    </tr>\n",
       "    <tr>\n",
       "      <th>4</th>\n",
       "      <td>57</td>\n",
       "      <td>female</td>\n",
       "      <td>typical angina</td>\n",
       "      <td>120</td>\n",
       "      <td>354</td>\n",
       "      <td>&gt; 120 mg/dl</td>\n",
       "      <td>ST-T wave abnormality</td>\n",
       "      <td>163</td>\n",
       "      <td>yes</td>\n",
       "      <td>0.6</td>\n",
       "      <td>downsloping</td>\n",
       "      <td>0</td>\n",
       "      <td>fixed defect</td>\n",
       "      <td>disease</td>\n",
       "    </tr>\n",
       "  </tbody>\n",
       "</table>\n",
       "</div>"
      ],
      "text/plain": [
       "   age     sex  chest_pain_type  resting_blood_pressure  cholestoral  \\\n",
       "0   63    male     asymptomatic                     145          233   \n",
       "1   37    male      non-anginal                     130          250   \n",
       "2   41  female  atypical angina                     130          204   \n",
       "3   56    male  atypical angina                     120          236   \n",
       "4   57  female   typical angina                     120          354   \n",
       "\n",
       "  fasting_blood_sugar resting_electrocardiographic  maximum_heart_rate  \\\n",
       "0         < 120 mg/dl                       normal                 150   \n",
       "1         > 120 mg/dl        ST-T wave abnormality                 187   \n",
       "2         > 120 mg/dl                       normal                 172   \n",
       "3         > 120 mg/dl        ST-T wave abnormality                 178   \n",
       "4         > 120 mg/dl        ST-T wave abnormality                 163   \n",
       "\n",
       "  exercise_induced_angina  ST_depression slope_peak_exercise_ST  \\\n",
       "0                      no            2.3              upsloping   \n",
       "1                      no            3.5              upsloping   \n",
       "2                      no            1.4            downsloping   \n",
       "3                      no            0.8            downsloping   \n",
       "4                     yes            0.6            downsloping   \n",
       "\n",
       "   number_of_major_vessels          thal   target  \n",
       "0                        0      normal 1  disease  \n",
       "1                        0  fixed defect  disease  \n",
       "2                        0  fixed defect  disease  \n",
       "3                        0  fixed defect  disease  \n",
       "4                        0  fixed defect  disease  "
      ]
     },
     "execution_count": 117,
     "metadata": {},
     "output_type": "execute_result"
    }
   ],
   "source": [
    "df['sex'] = df['sex'].map({0:'female', 1:'male'})\n",
    "df['chest_pain_type'] = df['chest_pain_type'].map({\n",
    "        0:'typical angina', 1:'atypical angina',\n",
    "        2:'non-anginal',    3:'asymptomatic'})\n",
    "df['fasting_blood_sugar'] = df['fasting_blood_sugar'].map({\n",
    "        0:'> 120 mg/dl', 1:'< 120 mg/dl'})\n",
    "df['resting_electrocardiographic'] = df['resting_electrocardiographic'].map({\n",
    "        0:'normal', 1:'ST-T wave abnormality', 2:'ventricular hypertrophy'})\n",
    "df['exercise_induced_angina'] = df['exercise_induced_angina'].map({\n",
    "        0:'no', 1:'yes'})\n",
    "df['slope_peak_exercise_ST'] = df['slope_peak_exercise_ST'].map({\n",
    "        0:'upsloping', 1:'flat', 2:'downsloping'})\n",
    "df['thal'] = df['thal'].map({\n",
    "        0:'normal 0',     1:'normal 1',\n",
    "        2:'fixed defect', 3:'reversable defect'})\n",
    "df['target'] = df['target'].map({0:'no disease', 1:'disease'})\n",
    "\n",
    "df.head()"
   ]
  },
  {
   "cell_type": "markdown",
   "metadata": {},
   "source": [
    "[go to top of document](#top)     \n",
    "\n",
    "---\n",
    "#  Model - Logistic Regression<a id=\"model\"></a>"
   ]
  },
  {
   "cell_type": "markdown",
   "metadata": {},
   "source": [
    "##  One Hot Encoding <a id=\"model_oneH\"></a>\n",
    "Machine learning algorithms cannot process categorical or text data unless they have been converted to numbers.  **One hot encoding** maps categorical values to integer values, which are represented as a binary vector that are all zero values, except the index of the integer, which is set to 1."
   ]
  },
  {
   "cell_type": "code",
   "execution_count": 118,
   "metadata": {},
   "outputs": [
    {
     "name": "stdout",
     "output_type": "stream",
     "text": [
      "unique values:  41\tage\n",
      "unique values:  2\tsex\n",
      "unique values:  4\tchest_pain_type\n",
      "unique values:  49\tresting_blood_pressure\n",
      "unique values:  152\tcholestoral\n",
      "unique values:  2\tfasting_blood_sugar\n",
      "unique values:  3\tresting_electrocardiographic\n",
      "unique values:  91\tmaximum_heart_rate\n",
      "unique values:  2\texercise_induced_angina\n",
      "unique values:  40\tST_depression\n",
      "unique values:  3\tslope_peak_exercise_ST\n",
      "unique values:  5\tnumber_of_major_vessels\n",
      "unique values:  4\tthal\n",
      "unique values:  2\ttarget\n"
     ]
    }
   ],
   "source": [
    "#  Separate out Categorical and Numeric data\n",
    "colCAT = []\n",
    "colNUM = []\n",
    "for i in df.columns:\n",
    "    if (len(df[i].unique())) > 5:\n",
    "        colNUM.append(i)\n",
    "    else:\n",
    "        colCAT.append(i)\n",
    "    print('unique values:  {}\\t{}'.format(len(df[i].unique()),i))\n",
    "\n",
    "dataCAT = df[colCAT]     #  Categorical columns\n",
    "colNUM.append('target')  #  add target column to Numeric\n",
    "dataNUM = df[colNUM]     #  Numeric columns"
   ]
  },
  {
   "cell_type": "code",
   "execution_count": 119,
   "metadata": {
    "_kg_hide-input": true,
    "scrolled": true
   },
   "outputs": [
    {
     "data": {
      "text/html": [
       "<div>\n",
       "<style scoped>\n",
       "    .dataframe tbody tr th:only-of-type {\n",
       "        vertical-align: middle;\n",
       "    }\n",
       "\n",
       "    .dataframe tbody tr th {\n",
       "        vertical-align: top;\n",
       "    }\n",
       "\n",
       "    .dataframe thead th {\n",
       "        text-align: right;\n",
       "    }\n",
       "</style>\n",
       "<table border=\"1\" class=\"dataframe\">\n",
       "  <thead>\n",
       "    <tr style=\"text-align: right;\">\n",
       "      <th></th>\n",
       "      <th>sex_female</th>\n",
       "      <th>sex_male</th>\n",
       "      <th>chest_pain_type_asymptomatic</th>\n",
       "      <th>chest_pain_type_atypical angina</th>\n",
       "      <th>chest_pain_type_non-anginal</th>\n",
       "      <th>chest_pain_type_typical angina</th>\n",
       "      <th>fasting_blood_sugar_&lt; 120 mg/dl</th>\n",
       "      <th>fasting_blood_sugar_&gt; 120 mg/dl</th>\n",
       "      <th>resting_electrocardiographic_ST-T wave abnormality</th>\n",
       "      <th>resting_electrocardiographic_normal</th>\n",
       "      <th>...</th>\n",
       "      <th>thal_fixed defect</th>\n",
       "      <th>thal_normal 0</th>\n",
       "      <th>thal_normal 1</th>\n",
       "      <th>thal_reversable defect</th>\n",
       "      <th>age</th>\n",
       "      <th>resting_blood_pressure</th>\n",
       "      <th>cholestoral</th>\n",
       "      <th>maximum_heart_rate</th>\n",
       "      <th>ST_depression</th>\n",
       "      <th>target</th>\n",
       "    </tr>\n",
       "  </thead>\n",
       "  <tbody>\n",
       "    <tr>\n",
       "      <th>0</th>\n",
       "      <td>0</td>\n",
       "      <td>1</td>\n",
       "      <td>1</td>\n",
       "      <td>0</td>\n",
       "      <td>0</td>\n",
       "      <td>0</td>\n",
       "      <td>1</td>\n",
       "      <td>0</td>\n",
       "      <td>0</td>\n",
       "      <td>1</td>\n",
       "      <td>...</td>\n",
       "      <td>0</td>\n",
       "      <td>0</td>\n",
       "      <td>1</td>\n",
       "      <td>0</td>\n",
       "      <td>63</td>\n",
       "      <td>145</td>\n",
       "      <td>233</td>\n",
       "      <td>150</td>\n",
       "      <td>2.3</td>\n",
       "      <td>1</td>\n",
       "    </tr>\n",
       "    <tr>\n",
       "      <th>1</th>\n",
       "      <td>0</td>\n",
       "      <td>1</td>\n",
       "      <td>0</td>\n",
       "      <td>0</td>\n",
       "      <td>1</td>\n",
       "      <td>0</td>\n",
       "      <td>0</td>\n",
       "      <td>1</td>\n",
       "      <td>1</td>\n",
       "      <td>0</td>\n",
       "      <td>...</td>\n",
       "      <td>1</td>\n",
       "      <td>0</td>\n",
       "      <td>0</td>\n",
       "      <td>0</td>\n",
       "      <td>37</td>\n",
       "      <td>130</td>\n",
       "      <td>250</td>\n",
       "      <td>187</td>\n",
       "      <td>3.5</td>\n",
       "      <td>1</td>\n",
       "    </tr>\n",
       "    <tr>\n",
       "      <th>2</th>\n",
       "      <td>1</td>\n",
       "      <td>0</td>\n",
       "      <td>0</td>\n",
       "      <td>1</td>\n",
       "      <td>0</td>\n",
       "      <td>0</td>\n",
       "      <td>0</td>\n",
       "      <td>1</td>\n",
       "      <td>0</td>\n",
       "      <td>1</td>\n",
       "      <td>...</td>\n",
       "      <td>1</td>\n",
       "      <td>0</td>\n",
       "      <td>0</td>\n",
       "      <td>0</td>\n",
       "      <td>41</td>\n",
       "      <td>130</td>\n",
       "      <td>204</td>\n",
       "      <td>172</td>\n",
       "      <td>1.4</td>\n",
       "      <td>1</td>\n",
       "    </tr>\n",
       "    <tr>\n",
       "      <th>3</th>\n",
       "      <td>0</td>\n",
       "      <td>1</td>\n",
       "      <td>0</td>\n",
       "      <td>1</td>\n",
       "      <td>0</td>\n",
       "      <td>0</td>\n",
       "      <td>0</td>\n",
       "      <td>1</td>\n",
       "      <td>1</td>\n",
       "      <td>0</td>\n",
       "      <td>...</td>\n",
       "      <td>1</td>\n",
       "      <td>0</td>\n",
       "      <td>0</td>\n",
       "      <td>0</td>\n",
       "      <td>56</td>\n",
       "      <td>120</td>\n",
       "      <td>236</td>\n",
       "      <td>178</td>\n",
       "      <td>0.8</td>\n",
       "      <td>1</td>\n",
       "    </tr>\n",
       "    <tr>\n",
       "      <th>4</th>\n",
       "      <td>1</td>\n",
       "      <td>0</td>\n",
       "      <td>0</td>\n",
       "      <td>0</td>\n",
       "      <td>0</td>\n",
       "      <td>1</td>\n",
       "      <td>0</td>\n",
       "      <td>1</td>\n",
       "      <td>1</td>\n",
       "      <td>0</td>\n",
       "      <td>...</td>\n",
       "      <td>1</td>\n",
       "      <td>0</td>\n",
       "      <td>0</td>\n",
       "      <td>0</td>\n",
       "      <td>57</td>\n",
       "      <td>120</td>\n",
       "      <td>354</td>\n",
       "      <td>163</td>\n",
       "      <td>0.6</td>\n",
       "      <td>1</td>\n",
       "    </tr>\n",
       "  </tbody>\n",
       "</table>\n",
       "<p>5 rows × 31 columns</p>\n",
       "</div>"
      ],
      "text/plain": [
       "   sex_female  sex_male  chest_pain_type_asymptomatic  \\\n",
       "0           0         1                             1   \n",
       "1           0         1                             0   \n",
       "2           1         0                             0   \n",
       "3           0         1                             0   \n",
       "4           1         0                             0   \n",
       "\n",
       "   chest_pain_type_atypical angina  chest_pain_type_non-anginal  \\\n",
       "0                                0                            0   \n",
       "1                                0                            1   \n",
       "2                                1                            0   \n",
       "3                                1                            0   \n",
       "4                                0                            0   \n",
       "\n",
       "   chest_pain_type_typical angina  fasting_blood_sugar_< 120 mg/dl  \\\n",
       "0                               0                                1   \n",
       "1                               0                                0   \n",
       "2                               0                                0   \n",
       "3                               0                                0   \n",
       "4                               1                                0   \n",
       "\n",
       "   fasting_blood_sugar_> 120 mg/dl  \\\n",
       "0                                0   \n",
       "1                                1   \n",
       "2                                1   \n",
       "3                                1   \n",
       "4                                1   \n",
       "\n",
       "   resting_electrocardiographic_ST-T wave abnormality  \\\n",
       "0                                                  0    \n",
       "1                                                  1    \n",
       "2                                                  0    \n",
       "3                                                  1    \n",
       "4                                                  1    \n",
       "\n",
       "   resting_electrocardiographic_normal  ...  thal_fixed defect  thal_normal 0  \\\n",
       "0                                    1  ...                  0              0   \n",
       "1                                    0  ...                  1              0   \n",
       "2                                    1  ...                  1              0   \n",
       "3                                    0  ...                  1              0   \n",
       "4                                    0  ...                  1              0   \n",
       "\n",
       "   thal_normal 1  thal_reversable defect  age  resting_blood_pressure  \\\n",
       "0              1                       0   63                     145   \n",
       "1              0                       0   37                     130   \n",
       "2              0                       0   41                     130   \n",
       "3              0                       0   56                     120   \n",
       "4              0                       0   57                     120   \n",
       "\n",
       "   cholestoral  maximum_heart_rate  ST_depression  target  \n",
       "0          233                 150            2.3       1  \n",
       "1          250                 187            3.5       1  \n",
       "2          204                 172            1.4       1  \n",
       "3          236                 178            0.8       1  \n",
       "4          354                 163            0.6       1  \n",
       "\n",
       "[5 rows x 31 columns]"
      ]
     },
     "execution_count": 119,
     "metadata": {},
     "output_type": "execute_result"
    }
   ],
   "source": [
    "#  one hot encoding works on type 'object'\n",
    "for i in colCAT:\n",
    "    df[i] = df[i].astype(object)\n",
    "    \n",
    "df_OHE = df[colCAT]               #  dataframe with categorical values\n",
    "df_OHE = pd.get_dummies(df_OHE)   #  one-hot encoding\n",
    "df_OHE = df_OHE.join(df[colNUM])  #  add numeric columns\n",
    "\n",
    "#  change target data to 0/1\n",
    "df_OHE['target'] = df_OHE['target'].map({'no disease':0,'disease':1})\n",
    "df_OHE = df_OHE.drop(['target_disease', 'target_no disease'], axis=1)\n",
    "\n",
    "df_OHE.head()"
   ]
  },
  {
   "cell_type": "markdown",
   "metadata": {},
   "source": [
    "## Normalize Data <a id=\"model_norm\"></a>\n",
    "Normalization is a rescaling of the data from the original range so that all values are within a certain range, typically between 0 and 1.  Normalized data is essential in machine learning.  Correlation and models will not produce good results if the scales are not standardized.\n",
    "\n",
    "Using **MixMaxScalar** to keep the 'sex' columns as '0' and '1'.  **StandardScaler** converts the 'sex' columns as -0.68 & 1.46 for female and -1.46 & 0.68 for male."
   ]
  },
  {
   "cell_type": "code",
   "execution_count": 120,
   "metadata": {
    "scrolled": false
   },
   "outputs": [
    {
     "data": {
      "text/plain": [
       "array([[0.        , 1.        , 1.        , 0.        , 0.        ,\n",
       "        0.        , 1.        , 0.        , 0.        , 1.        ,\n",
       "        0.        , 1.        , 0.        , 0.        , 0.        ,\n",
       "        1.        , 1.        , 0.        , 0.        , 0.        ,\n",
       "        0.        , 0.        , 0.        , 1.        , 0.        ,\n",
       "        0.70833333, 0.48113208, 0.24429224, 0.60305344, 0.37096774,\n",
       "        1.        ],\n",
       "       [0.        , 1.        , 0.        , 0.        , 1.        ,\n",
       "        0.        , 0.        , 1.        , 1.        , 0.        ,\n",
       "        0.        , 1.        , 0.        , 0.        , 0.        ,\n",
       "        1.        , 1.        , 0.        , 0.        , 0.        ,\n",
       "        0.        , 1.        , 0.        , 0.        , 0.        ,\n",
       "        0.16666667, 0.33962264, 0.28310502, 0.88549618, 0.56451613,\n",
       "        1.        ]])"
      ]
     },
     "execution_count": 120,
     "metadata": {},
     "output_type": "execute_result"
    }
   ],
   "source": [
    "from sklearn.preprocessing import MinMaxScaler\n",
    "norm = MinMaxScaler().fit_transform(df_OHE)\n",
    "norm[0:2]"
   ]
  },
  {
   "cell_type": "markdown",
   "metadata": {},
   "source": [
    "Finally, create the dataframe that can be used for machine learning with the One Hot Encoding and Normalized data."
   ]
  },
  {
   "cell_type": "code",
   "execution_count": 121,
   "metadata": {},
   "outputs": [
    {
     "data": {
      "text/html": [
       "<div>\n",
       "<style scoped>\n",
       "    .dataframe tbody tr th:only-of-type {\n",
       "        vertical-align: middle;\n",
       "    }\n",
       "\n",
       "    .dataframe tbody tr th {\n",
       "        vertical-align: top;\n",
       "    }\n",
       "\n",
       "    .dataframe thead th {\n",
       "        text-align: right;\n",
       "    }\n",
       "</style>\n",
       "<table border=\"1\" class=\"dataframe\">\n",
       "  <thead>\n",
       "    <tr style=\"text-align: right;\">\n",
       "      <th></th>\n",
       "      <th>sex_female</th>\n",
       "      <th>sex_male</th>\n",
       "      <th>chest_pain_type_asymptomatic</th>\n",
       "      <th>chest_pain_type_atypical angina</th>\n",
       "      <th>chest_pain_type_non-anginal</th>\n",
       "      <th>chest_pain_type_typical angina</th>\n",
       "      <th>fasting_blood_sugar_&lt; 120 mg/dl</th>\n",
       "      <th>fasting_blood_sugar_&gt; 120 mg/dl</th>\n",
       "      <th>resting_electrocardiographic_ST-T wave abnormality</th>\n",
       "      <th>resting_electrocardiographic_normal</th>\n",
       "      <th>...</th>\n",
       "      <th>thal_fixed defect</th>\n",
       "      <th>thal_normal 0</th>\n",
       "      <th>thal_normal 1</th>\n",
       "      <th>thal_reversable defect</th>\n",
       "      <th>age</th>\n",
       "      <th>resting_blood_pressure</th>\n",
       "      <th>cholestoral</th>\n",
       "      <th>maximum_heart_rate</th>\n",
       "      <th>ST_depression</th>\n",
       "      <th>target</th>\n",
       "    </tr>\n",
       "  </thead>\n",
       "  <tbody>\n",
       "    <tr>\n",
       "      <th>0</th>\n",
       "      <td>0.0</td>\n",
       "      <td>1.0</td>\n",
       "      <td>1.0</td>\n",
       "      <td>0.0</td>\n",
       "      <td>0.0</td>\n",
       "      <td>0.0</td>\n",
       "      <td>1.0</td>\n",
       "      <td>0.0</td>\n",
       "      <td>0.0</td>\n",
       "      <td>1.0</td>\n",
       "      <td>...</td>\n",
       "      <td>0.0</td>\n",
       "      <td>0.0</td>\n",
       "      <td>1.0</td>\n",
       "      <td>0.0</td>\n",
       "      <td>0.708333</td>\n",
       "      <td>0.481132</td>\n",
       "      <td>0.244292</td>\n",
       "      <td>0.603053</td>\n",
       "      <td>0.370968</td>\n",
       "      <td>1.0</td>\n",
       "    </tr>\n",
       "    <tr>\n",
       "      <th>1</th>\n",
       "      <td>0.0</td>\n",
       "      <td>1.0</td>\n",
       "      <td>0.0</td>\n",
       "      <td>0.0</td>\n",
       "      <td>1.0</td>\n",
       "      <td>0.0</td>\n",
       "      <td>0.0</td>\n",
       "      <td>1.0</td>\n",
       "      <td>1.0</td>\n",
       "      <td>0.0</td>\n",
       "      <td>...</td>\n",
       "      <td>1.0</td>\n",
       "      <td>0.0</td>\n",
       "      <td>0.0</td>\n",
       "      <td>0.0</td>\n",
       "      <td>0.166667</td>\n",
       "      <td>0.339623</td>\n",
       "      <td>0.283105</td>\n",
       "      <td>0.885496</td>\n",
       "      <td>0.564516</td>\n",
       "      <td>1.0</td>\n",
       "    </tr>\n",
       "    <tr>\n",
       "      <th>2</th>\n",
       "      <td>1.0</td>\n",
       "      <td>0.0</td>\n",
       "      <td>0.0</td>\n",
       "      <td>1.0</td>\n",
       "      <td>0.0</td>\n",
       "      <td>0.0</td>\n",
       "      <td>0.0</td>\n",
       "      <td>1.0</td>\n",
       "      <td>0.0</td>\n",
       "      <td>1.0</td>\n",
       "      <td>...</td>\n",
       "      <td>1.0</td>\n",
       "      <td>0.0</td>\n",
       "      <td>0.0</td>\n",
       "      <td>0.0</td>\n",
       "      <td>0.250000</td>\n",
       "      <td>0.339623</td>\n",
       "      <td>0.178082</td>\n",
       "      <td>0.770992</td>\n",
       "      <td>0.225806</td>\n",
       "      <td>1.0</td>\n",
       "    </tr>\n",
       "    <tr>\n",
       "      <th>3</th>\n",
       "      <td>0.0</td>\n",
       "      <td>1.0</td>\n",
       "      <td>0.0</td>\n",
       "      <td>1.0</td>\n",
       "      <td>0.0</td>\n",
       "      <td>0.0</td>\n",
       "      <td>0.0</td>\n",
       "      <td>1.0</td>\n",
       "      <td>1.0</td>\n",
       "      <td>0.0</td>\n",
       "      <td>...</td>\n",
       "      <td>1.0</td>\n",
       "      <td>0.0</td>\n",
       "      <td>0.0</td>\n",
       "      <td>0.0</td>\n",
       "      <td>0.562500</td>\n",
       "      <td>0.245283</td>\n",
       "      <td>0.251142</td>\n",
       "      <td>0.816794</td>\n",
       "      <td>0.129032</td>\n",
       "      <td>1.0</td>\n",
       "    </tr>\n",
       "    <tr>\n",
       "      <th>4</th>\n",
       "      <td>1.0</td>\n",
       "      <td>0.0</td>\n",
       "      <td>0.0</td>\n",
       "      <td>0.0</td>\n",
       "      <td>0.0</td>\n",
       "      <td>1.0</td>\n",
       "      <td>0.0</td>\n",
       "      <td>1.0</td>\n",
       "      <td>1.0</td>\n",
       "      <td>0.0</td>\n",
       "      <td>...</td>\n",
       "      <td>1.0</td>\n",
       "      <td>0.0</td>\n",
       "      <td>0.0</td>\n",
       "      <td>0.0</td>\n",
       "      <td>0.583333</td>\n",
       "      <td>0.245283</td>\n",
       "      <td>0.520548</td>\n",
       "      <td>0.702290</td>\n",
       "      <td>0.096774</td>\n",
       "      <td>1.0</td>\n",
       "    </tr>\n",
       "  </tbody>\n",
       "</table>\n",
       "<p>5 rows × 31 columns</p>\n",
       "</div>"
      ],
      "text/plain": [
       "   sex_female  sex_male  chest_pain_type_asymptomatic  \\\n",
       "0         0.0       1.0                           1.0   \n",
       "1         0.0       1.0                           0.0   \n",
       "2         1.0       0.0                           0.0   \n",
       "3         0.0       1.0                           0.0   \n",
       "4         1.0       0.0                           0.0   \n",
       "\n",
       "   chest_pain_type_atypical angina  chest_pain_type_non-anginal  \\\n",
       "0                              0.0                          0.0   \n",
       "1                              0.0                          1.0   \n",
       "2                              1.0                          0.0   \n",
       "3                              1.0                          0.0   \n",
       "4                              0.0                          0.0   \n",
       "\n",
       "   chest_pain_type_typical angina  fasting_blood_sugar_< 120 mg/dl  \\\n",
       "0                             0.0                              1.0   \n",
       "1                             0.0                              0.0   \n",
       "2                             0.0                              0.0   \n",
       "3                             0.0                              0.0   \n",
       "4                             1.0                              0.0   \n",
       "\n",
       "   fasting_blood_sugar_> 120 mg/dl  \\\n",
       "0                              0.0   \n",
       "1                              1.0   \n",
       "2                              1.0   \n",
       "3                              1.0   \n",
       "4                              1.0   \n",
       "\n",
       "   resting_electrocardiographic_ST-T wave abnormality  \\\n",
       "0                                                0.0    \n",
       "1                                                1.0    \n",
       "2                                                0.0    \n",
       "3                                                1.0    \n",
       "4                                                1.0    \n",
       "\n",
       "   resting_electrocardiographic_normal  ...  thal_fixed defect  thal_normal 0  \\\n",
       "0                                  1.0  ...                0.0            0.0   \n",
       "1                                  0.0  ...                1.0            0.0   \n",
       "2                                  1.0  ...                1.0            0.0   \n",
       "3                                  0.0  ...                1.0            0.0   \n",
       "4                                  0.0  ...                1.0            0.0   \n",
       "\n",
       "   thal_normal 1  thal_reversable defect       age  resting_blood_pressure  \\\n",
       "0            1.0                     0.0  0.708333                0.481132   \n",
       "1            0.0                     0.0  0.166667                0.339623   \n",
       "2            0.0                     0.0  0.250000                0.339623   \n",
       "3            0.0                     0.0  0.562500                0.245283   \n",
       "4            0.0                     0.0  0.583333                0.245283   \n",
       "\n",
       "   cholestoral  maximum_heart_rate  ST_depression  target  \n",
       "0     0.244292            0.603053       0.370968     1.0  \n",
       "1     0.283105            0.885496       0.564516     1.0  \n",
       "2     0.178082            0.770992       0.225806     1.0  \n",
       "3     0.251142            0.816794       0.129032     1.0  \n",
       "4     0.520548            0.702290       0.096774     1.0  \n",
       "\n",
       "[5 rows x 31 columns]"
      ]
     },
     "execution_count": 121,
     "metadata": {},
     "output_type": "execute_result"
    }
   ],
   "source": [
    "#  dataframe with the One Hot Encoding and Normalized data\n",
    "df = pd.DataFrame(norm, index=df_OHE.index, columns=df_OHE.columns)\n",
    "df.head()"
   ]
  },
  {
   "cell_type": "markdown",
   "metadata": {},
   "source": [
    "The original dataframe (**df**) now had One Hot Encoding and Normalized data and is ready for machine learning."
   ]
  },
  {
   "cell_type": "markdown",
   "metadata": {},
   "source": [
    "##  Train/Test Split <a id=\"model_split\"></a>\n",
    "Train/Test Split randomly splits a dataset into training and testing subsets.  The model learns on the training set based on known output, and the test data is used to evaluate the accuracy of the model."
   ]
  },
  {
   "cell_type": "code",
   "execution_count": 192,
   "metadata": {},
   "outputs": [
    {
     "name": "stdout",
     "output_type": "stream",
     "text": [
      "Train set:   (241, 29) (241,)\n",
      "Test set:    (61, 29) (61,)\n"
     ]
    }
   ],
   "source": [
    "from sklearn.model_selection import train_test_split\n",
    "\n",
    "X = df.drop(['target', 'sex_female'], axis = 1) #Added by FK to make this fit with AIF 360\n",
    "y = df['target']\n",
    "\n",
    "X_train, X_test, y_train, y_test = train_test_split( X, y, test_size=0.2, random_state=4)\n",
    "print ('Train set:  ', X_train.shape,  y_train.shape)\n",
    "print ('Test set:   ', X_test.shape,  y_test.shape)"
   ]
  },
  {
   "cell_type": "markdown",
   "metadata": {},
   "source": [
    "##  Classification Model - Logistic Regression<a id=\"model_lr\"></a>   \n",
    "In machine learning, **classification** is a *supervised* learning approach which attempts to learn the relationship between a set of feature variables and a target variable. The target attribute in classification is a categorical variable with discrete values.\n",
    "\n",
    "**Logistic regression** is a classification algorithm for categorical variables.  Logistic regression is analogous to linear regression, but tries to predict a categorical or discrete target field, such as 0 or 1, yes or no, etc., instead of a numeric one.\n"
   ]
  },
  {
   "cell_type": "code",
   "execution_count": 193,
   "metadata": {},
   "outputs": [
    {
     "data": {
      "text/plain": [
       "LogisticRegression(C=0.01, solver='liblinear')"
      ]
     },
     "execution_count": 193,
     "metadata": {},
     "output_type": "execute_result"
    }
   ],
   "source": [
    "from sklearn.linear_model import LogisticRegression\n",
    "\n",
    "LR = LogisticRegression(C=0.01, solver='liblinear').fit(X_train,y_train)\n",
    "LR"
   ]
  },
  {
   "cell_type": "markdown",
   "metadata": {},
   "source": [
    "**Predict** generates output predictions from the input samples and is used for evaluating the model."
   ]
  },
  {
   "cell_type": "code",
   "execution_count": 194,
   "metadata": {},
   "outputs": [
    {
     "data": {
      "text/plain": [
       "array([1., 0., 1., 1., 0., 1., 1., 1., 1., 0.])"
      ]
     },
     "execution_count": 194,
     "metadata": {},
     "output_type": "execute_result"
    }
   ],
   "source": [
    "#  predict\n",
    "y_predict = LR.predict(X_test)\n",
    "y_predict[0:10]"
   ]
  },
  {
   "cell_type": "markdown",
   "metadata": {},
   "source": [
    "[go to top of document](#top)     \n",
    "\n",
    "---\n",
    "#  Evaluate the Model  <a id=\"eval\"></a>\n",
    "This section will evalute the Logistic Regression model."
   ]
  },
  {
   "cell_type": "markdown",
   "metadata": {},
   "source": [
    "##  Cross Validation Score<a id=\"eval_cv\"></a>   \n",
    "**Cross Validation Score** splits the dataset into K equal groups. Each group is referred to as a fold.  Some of the folds are used for training and the reamaining for testing the model.  The process is repeated until each partition is used for both training and testing."
   ]
  },
  {
   "cell_type": "code",
   "execution_count": 195,
   "metadata": {},
   "outputs": [
    {
     "name": "stdout",
     "output_type": "stream",
     "text": [
      "[0.75510204 0.85416667 0.89583333 0.75       0.91666667]\n",
      "Cross Validation Score (mean):  83.4354%\n"
     ]
    }
   ],
   "source": [
    "from sklearn.model_selection import cross_val_score\n",
    "\n",
    "print(cross_val_score(LR, X_train, y_train, cv=5, scoring='accuracy'))\n",
    "print('Cross Validation Score (mean):  {:3.4%}'.format(cross_val_score(LR, X_train, y_train, cv=5, scoring='accuracy').mean()))"
   ]
  },
  {
   "cell_type": "markdown",
   "metadata": {},
   "source": [
    "##  Accuracy Score<a id=\"eval_acc\"></a>   \n",
    "**Accuracy Score** function computes subset accuracy in a multilabel classification dataset and is equal to the **Jaccard Score** function in binary and multiclass classification."
   ]
  },
  {
   "cell_type": "code",
   "execution_count": 196,
   "metadata": {},
   "outputs": [
    {
     "name": "stdout",
     "output_type": "stream",
     "text": [
      "Accuracy Score:  85.2459%\n"
     ]
    }
   ],
   "source": [
    "from sklearn.metrics import accuracy_score\n",
    "\n",
    "print('Accuracy Score:  {:3.4%}'.format(accuracy_score(y_test,y_predict)))"
   ]
  },
  {
   "cell_type": "markdown",
   "metadata": {},
   "source": [
    "##  F1 Score<a id=\"eval_f1\"></a>   \n",
    "**F1 Score** is the weighted average of Precision and Recall."
   ]
  },
  {
   "cell_type": "code",
   "execution_count": 197,
   "metadata": {},
   "outputs": [
    {
     "name": "stdout",
     "output_type": "stream",
     "text": [
      "F1 Score:  88.0000%\n"
     ]
    }
   ],
   "source": [
    "from sklearn.metrics import f1_score\n",
    "\n",
    "f1score = f1_score(y_test, y_predict)\n",
    "print('F1 Score:  {:3.4%}'.format(f1score))"
   ]
  },
  {
   "cell_type": "markdown",
   "metadata": {},
   "source": [
    "##  Confusion Matrix<a id=\"eval_conf\"></a>   \n",
    "Confusion matrix shows the corrected and wrong predictions, in comparison with the actual labels. It shows the model’s ability to correctly predict or separate the classes.\n",
    "\n",
    "   - **True Positive** – model predicted positive class correctly to be a positive class\n",
    "   - **False Positive** – model predicted negative class incorrectly to be a positive class\n",
    "   - **False Negative** – model predicted positive class incorrectly to be the negative class\n",
    "   - **True Negative** – model predicted negative class correctly to be the negative class"
   ]
  },
  {
   "cell_type": "code",
   "execution_count": 437,
   "metadata": {
    "_kg_hide-input": true
   },
   "outputs": [
    {
     "data": {
      "image/png": "[encoded data removed]",
      "text/plain": [
       "<Figure size 432x288 with 2 Axes>"
      ]
     },
     "metadata": {
      "needs_background": "light"
     },
     "output_type": "display_data"
    },
    {
     "name": "stdout",
     "output_type": "stream",
     "text": [
      "True Positive:\t33\n",
      "True Negative:\t19\n",
      "False Positive:\t8\n",
      "False Negative:\t1\n"
     ]
    }
   ],
   "source": [
    "from sklearn.metrics import confusion_matrix\n",
    "\n",
    "conf_matrix = confusion_matrix(y_test, y_predict)\n",
    "\n",
    "sns.heatmap(conf_matrix, annot=True,cmap='Blues',annot_kws={\"size\": 30})\n",
    "plt.title(\"Confusion Matrix, F1 Score: {:3.4%}\".format(f1score))\n",
    "plt.ylabel('Actual Label')\n",
    "plt.xlabel('Predicted Label')\n",
    "plt.show()\n",
    "\n",
    "print('True Positive:\\t{}'.format(conf_matrix[1,1]))\n",
    "print('True Negative:\\t{}'.format(conf_matrix[0,0]))\n",
    "print('False Positive:\\t{}'.format(conf_matrix[0,1]))\n",
    "print('False Negative:\\t{}'.format(conf_matrix[1,0]))"
   ]
  },
  {
   "cell_type": "markdown",
   "metadata": {},
   "source": [
    "##  Receiver Operating Characteristics (ROC) Curve<a id=\"eval_roc\"></a>   \n",
    "AUC–ROC curve is the model selection probability curve. AUC area is covered by the curve is the area between the orange line (ROC) and the axis.  The bigger the area covered, the better the machine learning models. Ideal value for AUC is 1.\n",
    "\n",
    "*  **ROC** - Receiver Operating Characteristics\n",
    "*  **AUC** - Area Under the Curve"
   ]
  },
  {
   "cell_type": "code",
   "execution_count": 199,
   "metadata": {
    "_kg_hide-input": true
   },
   "outputs": [
    {
     "data": {
      "image/png": "[encoded data removed]",
      "text/plain": [
       "<Figure size 432x288 with 1 Axes>"
      ]
     },
     "metadata": {
      "needs_background": "light"
     },
     "output_type": "display_data"
    }
   ],
   "source": [
    "from sklearn.metrics import roc_curve\n",
    "from sklearn.metrics import roc_auc_score\n",
    "\n",
    "LR.probability = True   # need for predict_proba to work\n",
    "LR.fit(X_train,y_train)\n",
    "y_predita = LR.predict_proba(X_test)\n",
    "y_predita = y_predita[:,1]   # positive values only\n",
    "    \n",
    "ROC_AUC = roc_auc_score(y_test, y_predita)\n",
    "fpr, tpr, thresholds = roc_curve(y_test, y_predita)\n",
    "\n",
    "plt.plot([0,1],[0,1], linestyle='--')\n",
    "plt.plot(fpr, tpr, marker='.')\n",
    "plt.title(\"ROC Curve, ROC_AUC Score: {:3.4%}\".format(ROC_AUC))\n",
    "plt.xlabel('False Positive Rate')\n",
    "plt.ylabel('True Positive Rate')\n",
    "plt.show()"
   ]
  },
  {
   "cell_type": "markdown",
   "metadata": {},
   "source": [
    "## Classification Report<a id=\"eval_class\"></a>   \n",
    "**Precision** is a measure of the accuracy, provided that a class label has been predicted. It is defined by:   \n",
    "    ```precision = True Positive/(True Positive + False Positive)```   \n",
    "    \n",
    "**Recall** is the true positive rate:    \n",
    "    ```recall = True Positive/(True Positive + False Negative)```   \n",
    "    \n",
    "**F1-Score** is the harmonic average of the precision and recall, where an F1 score reaches its best value at 1 (which represents perfect precision and recall) and its worst at 0    \n",
    "    ```F1-Score = 2x (precision x recall)/ (precision + recall)```"
   ]
  },
  {
   "cell_type": "code",
   "execution_count": 200,
   "metadata": {},
   "outputs": [
    {
     "name": "stdout",
     "output_type": "stream",
     "text": [
      "              precision    recall  f1-score   support\n",
      "\n",
      "         0.0       0.95      0.70      0.81        27\n",
      "         1.0       0.80      0.97      0.88        34\n",
      "\n",
      "    accuracy                           0.85        61\n",
      "   macro avg       0.88      0.84      0.84        61\n",
      "weighted avg       0.87      0.85      0.85        61\n",
      "\n"
     ]
    }
   ],
   "source": [
    "from sklearn.metrics import classification_report\n",
    "\n",
    "print(classification_report(y_test,y_predict))"
   ]
  },
  {
   "cell_type": "markdown",
   "metadata": {},
   "source": [
    "##  Log Loss<a id=\"eval_log\"></a>   \n",
    "Logarithmic loss measures the performance of a classification model where the prediction input is a probability value between 0 and 1. The goal of machine learning models is to minimize this value. A perfect model would have a log loss of 0."
   ]
  },
  {
   "cell_type": "code",
   "execution_count": 201,
   "metadata": {},
   "outputs": [
    {
     "name": "stdout",
     "output_type": "stream",
     "text": [
      "[[0.47811612 0.52188388]\n",
      " [0.58807101 0.41192899]\n",
      " [0.36786951 0.63213049]\n",
      " [0.42707699 0.57292301]\n",
      " [0.6687276  0.3312724 ]]\n",
      "\n",
      "Log Loss:  0.5133\n"
     ]
    }
   ],
   "source": [
    "from sklearn.metrics import log_loss\n",
    "\n",
    "#  predict_proba returns estimates for all classes\n",
    "y_predict_prob = LR.predict_proba(X_test)\n",
    "print(y_predict_prob[0:5])\n",
    "\n",
    "print(\"\\nLog Loss:  {:3.4}\".format(log_loss(y_test, y_predict_prob)))"
   ]
  },
  {
   "cell_type": "markdown",
   "metadata": {},
   "source": [
    "The next sections mark new code written to evaluate and enhance model fairness\n",
    "---\n",
    "#  Fairness Evaluation <a id=\"coll\"></a>"
   ]
  },
  {
   "cell_type": "code",
   "execution_count": 202,
   "metadata": {},
   "outputs": [
    {
     "name": "stdout",
     "output_type": "stream",
     "text": [
      "Requirement already satisfied: aif360==0.3.0 in /opt/anaconda3/lib/python3.8/site-packages (0.3.0)\n",
      "Requirement already satisfied: matplotlib in /opt/anaconda3/lib/python3.8/site-packages (from aif360==0.3.0) (3.2.2)\n",
      "Requirement already satisfied: numpy>=1.16 in /opt/anaconda3/lib/python3.8/site-packages (from aif360==0.3.0) (1.18.5)\n",
      "Requirement already satisfied: scikit-learn>=0.21 in /opt/anaconda3/lib/python3.8/site-packages (from aif360==0.3.0) (0.23.1)\n",
      "Requirement already satisfied: pandas>=0.24.0 in /opt/anaconda3/lib/python3.8/site-packages (from aif360==0.3.0) (1.2.3)\n",
      "Requirement already satisfied: scipy>=1.2.0 in /opt/anaconda3/lib/python3.8/site-packages (from aif360==0.3.0) (1.5.0)\n",
      "Requirement already satisfied: python-dateutil>=2.7.3 in /opt/anaconda3/lib/python3.8/site-packages (from pandas>=0.24.0->aif360==0.3.0) (2.8.1)\n",
      "Requirement already satisfied: pytz>=2017.3 in /opt/anaconda3/lib/python3.8/site-packages (from pandas>=0.24.0->aif360==0.3.0) (2020.1)\n",
      "Requirement already satisfied: threadpoolctl>=2.0.0 in /opt/anaconda3/lib/python3.8/site-packages (from scikit-learn>=0.21->aif360==0.3.0) (2.1.0)\n",
      "Requirement already satisfied: joblib>=0.11 in /opt/anaconda3/lib/python3.8/site-packages (from scikit-learn>=0.21->aif360==0.3.0) (0.16.0)\n",
      "Requirement already satisfied: cycler>=0.10 in /opt/anaconda3/lib/python3.8/site-packages (from matplotlib->aif360==0.3.0) (0.10.0)\n",
      "Requirement already satisfied: kiwisolver>=1.0.1 in /opt/anaconda3/lib/python3.8/site-packages (from matplotlib->aif360==0.3.0) (1.2.0)\n",
      "Requirement already satisfied: pyparsing!=2.0.4,!=2.1.2,!=2.1.6,>=2.0.1 in /opt/anaconda3/lib/python3.8/site-packages (from matplotlib->aif360==0.3.0) (2.4.7)\n",
      "Requirement already satisfied: six in /opt/anaconda3/lib/python3.8/site-packages (from cycler>=0.10->matplotlib->aif360==0.3.0) (1.15.0)\n",
      "\u001b[33mWARNING: You are using pip version 22.0.3; however, version 22.0.4 is available.\n",
      "You should consider upgrading via the '/opt/anaconda3/bin/python -m pip install --upgrade pip' command.\u001b[0m\u001b[33m\n",
      "\u001b[0mRequirement already satisfied: BlackBoxAuditing in /opt/anaconda3/lib/python3.8/site-packages (0.1.54)\n",
      "Requirement already satisfied: numpy in /opt/anaconda3/lib/python3.8/site-packages (from BlackBoxAuditing) (1.18.5)\n",
      "Requirement already satisfied: networkx in /opt/anaconda3/lib/python3.8/site-packages (from BlackBoxAuditing) (2.4)\n",
      "Requirement already satisfied: matplotlib in /opt/anaconda3/lib/python3.8/site-packages (from BlackBoxAuditing) (3.2.2)\n",
      "Requirement already satisfied: pandas in /opt/anaconda3/lib/python3.8/site-packages (from BlackBoxAuditing) (1.2.3)\n",
      "Requirement already satisfied: kiwisolver>=1.0.1 in /opt/anaconda3/lib/python3.8/site-packages (from matplotlib->BlackBoxAuditing) (1.2.0)\n",
      "Requirement already satisfied: cycler>=0.10 in /opt/anaconda3/lib/python3.8/site-packages (from matplotlib->BlackBoxAuditing) (0.10.0)\n",
      "Requirement already satisfied: pyparsing!=2.0.4,!=2.1.2,!=2.1.6,>=2.0.1 in /opt/anaconda3/lib/python3.8/site-packages (from matplotlib->BlackBoxAuditing) (2.4.7)\n",
      "Requirement already satisfied: python-dateutil>=2.1 in /opt/anaconda3/lib/python3.8/site-packages (from matplotlib->BlackBoxAuditing) (2.8.1)\n",
      "Requirement already satisfied: decorator>=4.3.0 in /opt/anaconda3/lib/python3.8/site-packages (from networkx->BlackBoxAuditing) (4.4.2)\n",
      "Requirement already satisfied: pytz>=2017.3 in /opt/anaconda3/lib/python3.8/site-packages (from pandas->BlackBoxAuditing) (2020.1)\n",
      "Requirement already satisfied: six in /opt/anaconda3/lib/python3.8/site-packages (from cycler>=0.10->matplotlib->BlackBoxAuditing) (1.15.0)\n",
      "\u001b[33mWARNING: You are using pip version 22.0.3; however, version 22.0.4 is available.\n",
      "You should consider upgrading via the '/opt/anaconda3/bin/python -m pip install --upgrade pip' command.\u001b[0m\u001b[33m\n",
      "\u001b[0mRequirement already satisfied: folktables in /opt/anaconda3/lib/python3.8/site-packages (0.0.11)\n",
      "Requirement already satisfied: numpy in /opt/anaconda3/lib/python3.8/site-packages (from folktables) (1.18.5)\n",
      "Requirement already satisfied: requests in /opt/anaconda3/lib/python3.8/site-packages (from folktables) (2.24.0)\n",
      "Requirement already satisfied: pandas in /opt/anaconda3/lib/python3.8/site-packages (from folktables) (1.2.3)\n",
      "Requirement already satisfied: sklearn in /opt/anaconda3/lib/python3.8/site-packages (from folktables) (0.0)\n",
      "Requirement already satisfied: pytz>=2017.3 in /opt/anaconda3/lib/python3.8/site-packages (from pandas->folktables) (2020.1)\n",
      "Requirement already satisfied: python-dateutil>=2.7.3 in /opt/anaconda3/lib/python3.8/site-packages (from pandas->folktables) (2.8.1)\n",
      "Requirement already satisfied: certifi>=2017.4.17 in /opt/anaconda3/lib/python3.8/site-packages (from requests->folktables) (2020.6.20)\n",
      "Requirement already satisfied: chardet<4,>=3.0.2 in /opt/anaconda3/lib/python3.8/site-packages (from requests->folktables) (3.0.4)\n",
      "Requirement already satisfied: idna<3,>=2.5 in /opt/anaconda3/lib/python3.8/site-packages (from requests->folktables) (2.10)\n",
      "Requirement already satisfied: urllib3!=1.25.0,!=1.25.1,<1.26,>=1.21.1 in /opt/anaconda3/lib/python3.8/site-packages (from requests->folktables) (1.25.9)\n",
      "Requirement already satisfied: scikit-learn in /opt/anaconda3/lib/python3.8/site-packages (from sklearn->folktables) (0.23.1)\n",
      "Requirement already satisfied: six>=1.5 in /opt/anaconda3/lib/python3.8/site-packages (from python-dateutil>=2.7.3->pandas->folktables) (1.15.0)\n",
      "Requirement already satisfied: scipy>=0.19.1 in /opt/anaconda3/lib/python3.8/site-packages (from scikit-learn->sklearn->folktables) (1.5.0)\n",
      "Requirement already satisfied: joblib>=0.11 in /opt/anaconda3/lib/python3.8/site-packages (from scikit-learn->sklearn->folktables) (0.16.0)\n",
      "Requirement already satisfied: threadpoolctl>=2.0.0 in /opt/anaconda3/lib/python3.8/site-packages (from scikit-learn->sklearn->folktables) (2.1.0)\n",
      "\u001b[33mWARNING: You are using pip version 22.0.3; however, version 22.0.4 is available.\n",
      "You should consider upgrading via the '/opt/anaconda3/bin/python -m pip install --upgrade pip' command.\u001b[0m\u001b[33m\n",
      "\u001b[0m"
     ]
    }
   ],
   "source": [
    "!pip install aif360==0.3.0 \n",
    "!pip install BlackBoxAuditing\n",
    "!pip install folktables"
   ]
  },
  {
   "cell_type": "code",
   "execution_count": 449,
   "metadata": {},
   "outputs": [],
   "source": [
    "from aif360.datasets import BinaryLabelDataset, StandardDataset\n",
    "from aif360.algorithms.preprocessing import DisparateImpactRemover, Reweighing\n",
    "from aif360.algorithms.inprocessing import PrejudiceRemover\n",
    "from aif360.algorithms.postprocessing import CalibratedEqOddsPostprocessing, RejectOptionClassification, EqOddsPostprocessing\n",
    "from aif360.datasets import BinaryLabelDataset\n",
    "from aif360.metrics import BinaryLabelDatasetMetric, ClassificationMetric\n",
    "\n",
    "import BlackBoxAuditing\n",
    "\n",
    "plt.rcParams.update({'font.size': 15})"
   ]
  },
  {
   "cell_type": "code",
   "execution_count": 450,
   "metadata": {},
   "outputs": [],
   "source": [
    "train_full = pd.concat([X_train, y_train], axis=1)\n",
    "test_full = pd.concat([X_test, y_test], axis=1)"
   ]
  },
  {
   "cell_type": "markdown",
   "metadata": {},
   "source": [
    "## Fairness Evaluation Choices:\n",
    "As part of the fairness evaluation of this classifier using Aif360, we have to make a few key choices to define fairness. Notably, the key choices we make below are:\n",
    "* We set a positive heart disease prediction as a favorable label and a negative one as unfavorable. The concept of favorable vs. unfavorable is a relatively arbitrary choice since this classifier isn't being used to distribute a benefit.\n",
    "* We choose males as the unpriviliged group. This choice was made after iteration on the fairness evaluation, and we'll later see that most fairness metrics we analyze are unfavorable for the male subpopulation"
   ]
  },
  {
   "cell_type": "code",
   "execution_count": 451,
   "metadata": {},
   "outputs": [],
   "source": [
    "# Create Aif360 Datasets for our train and test sets\n",
    "\n",
    "dataset_train = BinaryLabelDataset(\n",
    "    favorable_label=1,\n",
    "    unfavorable_label=0,\n",
    "    df=train_full,\n",
    "    label_names=['target'],\n",
    "    protected_attribute_names=['sex_male'])\n",
    "\n",
    "dataset_test = BinaryLabelDataset(\n",
    "    favorable_label=1,\n",
    "    unfavorable_label=0,\n",
    "    df=test_full,\n",
    "    label_names=['target'],\n",
    "    protected_attribute_names=['sex_male'])\n",
    "\n",
    "privileged_groups = [{'sex_male': 0}] \n",
    "unprivileged_groups = [{'sex_male': 1}]"
   ]
  },
  {
   "cell_type": "code",
   "execution_count": 452,
   "metadata": {},
   "outputs": [],
   "source": [
    "# This function quantifies and prints key fairness metrics for a given classifier\n",
    "def get_metrics(preds, data_df, target, protected_attr, privileged_groups, unprivileged_groups, verbose=True):\n",
    "    X = data_df.drop(target, axis=1)\n",
    "    y = data_df[target]\n",
    "\n",
    "    accuracy = accuracy_score(y, preds)\n",
    "    \n",
    "    print('Accuracy on the Test Set = ' + str(accuracy))\n",
    "    accuracy_priv = accuracy_score(y[X[protected_attr]==privileged_groups[0]['sex_male']], preds[X[protected_attr]==privileged_groups[0]['sex_male']])\n",
    "    accuracy_unpriv = accuracy_score(y[X[protected_attr]==unprivileged_groups[0]['sex_male']], preds[X[protected_attr]==unprivileged_groups[0]['sex_male']])\n",
    "\n",
    "    print('Privileged Accuracy on the Test Set = ' + str(accuracy_priv))\n",
    "    print('Unprivileged Accuracy on the Test Set = ' + str(accuracy_unpriv))\n",
    "    print('--------------------------------------\\n')\n",
    "    \n",
    "    \n",
    "    # Copy the dataset\n",
    "    preds_df = data_df.copy()\n",
    "    # Calculate predicted values\n",
    "    preds_df[target] = preds\n",
    "\n",
    "    orig_dataset = StandardDataset(data_df, label_name=target, protected_attribute_names=[protected_attr], \n",
    "                  privileged_classes=[[0]], favorable_classes=[1])\n",
    "    preds_dataset = StandardDataset(preds_df, label_name=target, protected_attribute_names=[protected_attr], \n",
    "                  privileged_classes=[[0]], favorable_classes=[1])\n",
    "\n",
    "    # write your code here\n",
    "    pred_aif360_metric = BinaryLabelDatasetMetric(preds_dataset,\n",
    "                          unprivileged_groups = unprivileged_groups,\n",
    "                          privileged_groups = privileged_groups)\n",
    "    disparate_impact = pred_aif360_metric.disparate_impact()\n",
    "    print('Disparate Impact on the Test Set = ' + str(disparate_impact))\n",
    "    print('--------------------------------------\\n')\n",
    "\n",
    "    orig_vs_preds_metrics = ClassificationMetric(orig_dataset, preds_dataset,\n",
    "                                                   unprivileged_groups=unprivileged_groups,\n",
    "                                                   privileged_groups=privileged_groups)\n",
    "    \n",
    "    false_positive_rate = orig_vs_preds_metrics.false_positive_rate()\n",
    "    false_positive_rate_difference = orig_vs_preds_metrics.false_positive_rate_difference()\n",
    "    print('False Positive Rate on the Test Set = ' + str(false_positive_rate))\n",
    "    print('False Positive Rate Privileged on the Test Set = ' + str(orig_vs_preds_metrics.false_positive_rate(privileged=True)))\n",
    "    print('False Positive Rate Unprivileged on the Test Set = ' + str(orig_vs_preds_metrics.false_positive_rate(privileged=False)))\n",
    "    print('False Positive Rate Difference on the Test Set = ' + str(false_positive_rate_difference))\n",
    "    print('--------------------------------------\\n')\n",
    "    \n",
    "    false_negative_rate = orig_vs_preds_metrics.false_negative_rate()\n",
    "    false_negative_rate_difference = orig_vs_preds_metrics.false_negative_rate_difference()\n",
    "    print('False Negative Rate on the Test Set = ' + str(false_negative_rate))\n",
    "    print('False Negative Rate Privileged on the Test Set = ' + str(orig_vs_preds_metrics.false_negative_rate(privileged=True)))\n",
    "    print('False Negative Rate Unprivileged on the Test Set = ' + str(orig_vs_preds_metrics.false_negative_rate(privileged=False)))\n",
    "    print('False Negative Rate Difference on the Test Set = ' + str(false_negative_rate_difference))\n",
    "\n",
    "    return orig_vs_preds_metrics"
   ]
  },
  {
   "cell_type": "code",
   "execution_count": 453,
   "metadata": {},
   "outputs": [
    {
     "name": "stdout",
     "output_type": "stream",
     "text": [
      "Accuracy on the Test Set = 0.8524590163934426\n",
      "Privileged Accuracy on the Test Set = 0.9411764705882353\n",
      "Unprivileged Accuracy on the Test Set = 0.8181818181818182\n",
      "--------------------------------------\n",
      "\n",
      "Disparate Impact on the Test Set = 0.8321678321678322\n",
      "--------------------------------------\n",
      "\n",
      "False Positive Rate on the Test Set = 0.2962962962962963\n",
      "False Positive Rate Privileged on the Test Set = 0.2\n",
      "False Positive Rate Unprivileged on the Test Set = 0.3181818181818182\n",
      "False Positive Rate Difference on the Test Set = 0.11818181818181817\n",
      "--------------------------------------\n",
      "\n",
      "False Negative Rate on the Test Set = 0.029411764705882353\n",
      "False Negative Rate Privileged on the Test Set = 0.0\n",
      "False Negative Rate Unprivileged on the Test Set = 0.045454545454545456\n",
      "False Negative Rate Difference on the Test Set = 0.045454545454545456\n"
     ]
    }
   ],
   "source": [
    "# Ouptu fairness metrics for the original classifier\n",
    "metrics = get_metrics(y_predict, test_full, \"target\", 'sex_male', privileged_groups, unprivileged_groups)"
   ]
  },
  {
   "cell_type": "code",
   "execution_count": 454,
   "metadata": {},
   "outputs": [
    {
     "data": {
      "image/png": "[encoded data removed]",
      "text/plain": [
       "<Figure size 1440x432 with 3 Axes>"
      ]
     },
     "metadata": {
      "needs_background": "light"
     },
     "output_type": "display_data"
    }
   ],
   "source": [
    "fig, ax = plt.subplots(1,3, figsize=(20,6))\n",
    "\n",
    "ax[0].bar([\"females\", \"males\"], [metrics.error_rate(privileged=True), metrics.error_rate(privileged=False)], \n",
    "          color = ['grey', 'violet'])\n",
    "ax[1].bar([\"females\", \"males\"], [metrics.false_positive_rate(privileged=True),\n",
    "                 metrics.false_positive_rate(privileged=False)], color = ['grey', 'violet'])\n",
    "ax[2].bar([\"females\", \"males\"], [metrics.false_negative_rate(privileged=True), \n",
    "                 metrics.false_negative_rate(privileged=False)], color = ['grey', 'violet'])\n",
    "\n",
    "ax[0].set_title('Error Rate by Sex', fontsize=15)\n",
    "ax[1].set_title('False Positive Rate by Sex', fontsize=15)\n",
    "ax[2].set_title('False Negative Rate by Sex', fontsize=15)\n",
    "\n",
    "ax[0].set_ylim(0, 1)\n",
    "ax[1].set_ylim(0, 1)\n",
    "ax[2].set_ylim(0, 1)\n",
    "\n",
    "plt.show()"
   ]
  },
  {
   "cell_type": "markdown",
   "metadata": {},
   "source": [
    "We make the following observations:\n",
    "* We note that males have a lower accuracy, higher false positive rate and higher false negative rate than females. This suggests that the classifier underperforms for the male subpopulation across all dimensions. Males are both more likely to be predicted as having heart disease when they do not (which could lead to unnecessary intervention) and are also more likely to be predicted as not having heart disease when they do (which could prevent them receiving lifesaving intervention)\n",
    "* We also see a disparate impact of 0.83 suggesting that Males are less likely to be predicted as having heart disease than Women. It is unclear if this, by itself suggests that the classifier is unfair and depends on prior ingoing beliefs / findings about whether males and females are expected to have heart disease at an equal rate or not."
   ]
  },
  {
   "cell_type": "markdown",
   "metadata": {},
   "source": [
    "---\n",
    "# Pre and Post Processing to Improve Fairness\n",
    "\n",
    "Our fairness interventions rely on ingoing hypotheses regarding the importance of different fairness metrics and the impact of unfair predictions. We choose to try two fairness mitigation techniques:\n",
    "* A pre-processing technique called Reweighing. Reweighing weights the examples in each (group, label) combination differently based on occurance frequencies to ensure fairness before classification. This is primarily focused on removing disparate impact by increasing the relative weight unpriviliged and favorable examples (in this case that would be males with heart disease). We expect this to improve disparate impact, which would make the classifier more fair if we believe that males and females are expected to get heart disease at similar rates\n",
    "* A post-processing technique called Reject Option Classification with \"Average odds difference\" as a metric. This technique focuses on optimizing over a range of classification thresholds to identify a decision boundry with the highest uncertainty where changing the predictions (i.e. giving favorable predictions to the unprivileged group and unfavorable predictions to the priviliged group) will help improve the provided metric. We choose Average odds difference as a metric because here we want to try to reduce false positive rate disparities between the two groups, even if it comes at the expense of making disparate impact worse. If we believe that males and females have different expected rates of heart disease, then this tradeoff makes sense and would help prevent false positive predictions for males, which in turn will lead to fewer unnecessary medical interventions."
   ]
  },
  {
   "cell_type": "markdown",
   "metadata": {},
   "source": [
    "## Reweighing"
   ]
  },
  {
   "cell_type": "code",
   "execution_count": 455,
   "metadata": {},
   "outputs": [],
   "source": [
    "reweigh = Reweighing(unprivileged_groups, privileged_groups)\n",
    "dataset_transf_train = reweigh.fit_transform(dataset_train)\n"
   ]
  },
  {
   "cell_type": "code",
   "execution_count": 456,
   "metadata": {},
   "outputs": [
    {
     "name": "stdout",
     "output_type": "stream",
     "text": [
      "Accuracy on the Test Set = 0.8852459016393442\n",
      "Privileged Accuracy on the Test Set = 1.0\n",
      "Unprivileged Accuracy on the Test Set = 0.8409090909090909\n",
      "--------------------------------------\n",
      "\n",
      "Disparate Impact on the Test Set = 0.9337121212121211\n",
      "--------------------------------------\n",
      "\n",
      "False Positive Rate on the Test Set = 0.25925925925925924\n",
      "False Positive Rate Privileged on the Test Set = 0.0\n",
      "False Positive Rate Unprivileged on the Test Set = 0.3181818181818182\n",
      "False Positive Rate Difference on the Test Set = 0.3181818181818182\n",
      "--------------------------------------\n",
      "\n",
      "False Negative Rate on the Test Set = 0.0\n",
      "False Negative Rate Privileged on the Test Set = 0.0\n",
      "False Negative Rate Unprivileged on the Test Set = 0.0\n",
      "False Negative Rate Difference on the Test Set = 0.0\n"
     ]
    }
   ],
   "source": [
    "LR_new = LogisticRegression(C=0.01, solver='liblinear').fit(X_train,y_train, sample_weight = dataset_transf_train.instance_weights)\n",
    "\n",
    "repaired_metrics = get_metrics(LR_new.predict(X_test), test_full, \"target\", \"sex_male\", privileged_groups, unprivileged_groups)\n"
   ]
  },
  {
   "cell_type": "code",
   "execution_count": 457,
   "metadata": {},
   "outputs": [
    {
     "data": {
      "image/png": "[encoded data removed]",
      "text/plain": [
       "<Figure size 1440x432 with 3 Axes>"
      ]
     },
     "metadata": {
      "needs_background": "light"
     },
     "output_type": "display_data"
    }
   ],
   "source": [
    "fig, ax = plt.subplots(1,3, figsize=(20,6))\n",
    "\n",
    "ax[0].bar([\"females\", \"males\"], [repaired_metrics.error_rate(privileged=True), repaired_metrics.error_rate(privileged=False)], \n",
    "          color = ['grey', 'violet'])\n",
    "ax[1].bar([\"females\", \"males\"], [repaired_metrics.false_positive_rate(privileged=True),\n",
    "                 repaired_metrics.false_positive_rate(privileged=False)], color = ['grey', 'violet'])\n",
    "ax[2].bar([\"females\", \"males\"], [repaired_metrics.false_negative_rate(privileged=True), \n",
    "                 repaired_metrics.false_negative_rate(privileged=False)], color = ['grey', 'violet'])\n",
    "\n",
    "ax[0].set_title('Error Rate by Sex')\n",
    "ax[1].set_title('False Positive Rate by Sex')\n",
    "ax[2].set_title('False Negative Rate by Sex')\n",
    "\n",
    "ax[0].set_ylim(0, 1)\n",
    "ax[1].set_ylim(0, 1)\n",
    "ax[2].set_ylim(0, 1)\n",
    "\n",
    "plt.show()"
   ]
  },
  {
   "cell_type": "code",
   "execution_count": 458,
   "metadata": {},
   "outputs": [
    {
     "data": {
      "image/png": "[encoded data removed]",
      "text/plain": [
       "<Figure size 1440x432 with 2 Axes>"
      ]
     },
     "metadata": {
      "needs_background": "light"
     },
     "output_type": "display_data"
    }
   ],
   "source": [
    "fig, ax = plt.subplots(1,2, figsize=(20,6))\n",
    "\n",
    "ax[0].bar([\"original\", \"reweighted\"], [metrics.accuracy(), repaired_metrics.accuracy()], \n",
    "          color = ['grey', 'violet'])\n",
    "ax[1].bar([\"original\", \"reweighted\"], [metrics.disparate_impact(), repaired_metrics.disparate_impact()], \n",
    "          color = ['grey', 'violet'])\n",
    "\n",
    "ax[0].set_title('Accuracy')\n",
    "ax[1].set_title('Disparate Impact')\n",
    "\n",
    "ax[0].set_ylim(0, 1)\n",
    "ax[1].set_ylim(0, 1)\n",
    "\n",
    "plt.show()"
   ]
  },
  {
   "cell_type": "code",
   "execution_count": 459,
   "metadata": {},
   "outputs": [
    {
     "data": {
      "image/png": "[encoded data removed]",
      "text/plain": [
       "<Figure size 1440x432 with 2 Axes>"
      ]
     },
     "metadata": {
      "needs_background": "light"
     },
     "output_type": "display_data"
    }
   ],
   "source": [
    "fig, ax = plt.subplots(1,2, figsize=(20,6))\n",
    "\n",
    "ax[0].bar([\"original\", \"reweighted\"], [metrics.false_positive_rate_difference(), repaired_metrics.false_positive_rate_difference()], \n",
    "          color = ['grey', 'violet'])\n",
    "ax[1].bar([\"original\", \"reweighted\"], [metrics.false_negative_rate_difference(), repaired_metrics.false_negative_rate_difference()], \n",
    "          color = ['grey', 'violet'])\n",
    "\n",
    "ax[0].set_title('False Positive Rate Difference')\n",
    "ax[1].set_title('False Negative Rate Difference')\n",
    "\n",
    "ax[0].set_ylim(0, 0.5)\n",
    "ax[1].set_ylim(0, 0.5)\n",
    "\n",
    "plt.show()"
   ]
  },
  {
   "cell_type": "code",
   "execution_count": 460,
   "metadata": {},
   "outputs": [
    {
     "data": {
      "image/png": "[encoded data removed]",
      "text/plain": [
       "<Figure size 1440x432 with 2 Axes>"
      ]
     },
     "metadata": {
      "needs_background": "light"
     },
     "output_type": "display_data"
    }
   ],
   "source": [
    "fig, ax = plt.subplots(1,2, figsize=(20,6))\n",
    "\n",
    "ax[0].bar([\"original\", \"reweighted\"], [metrics.false_positive_rate(privileged=False), repaired_metrics.false_positive_rate(privileged=False)], \n",
    "          color = ['grey', 'violet'])\n",
    "ax[1].bar([\"original\", \"reweighted\"], [metrics.false_negative_rate(privileged=False), repaired_metrics.false_negative_rate(privileged=False)], \n",
    "          color = ['grey', 'violet'])\n",
    "\n",
    "ax[0].set_title('False Positive Rate for Males')\n",
    "ax[1].set_title('False Negative Rate for Males')\n",
    "\n",
    "ax[0].set_ylim(0, 0.5)\n",
    "ax[1].set_ylim(0, 0.5)\n",
    "\n",
    "plt.show()"
   ]
  },
  {
   "cell_type": "markdown",
   "metadata": {},
   "source": [
    "Key observations:\n",
    "* As expected, we see an improvement in disparate impact as it goes up to 0.93. Interestingly, we also see an improvement in accuracy. We hypothesize that this is primarily because of noise associated with having a small test set.\n",
    "* Since this classifier now achieves 100\\% accuracy for females, we focus on false positve and false negative rates for the male subpopulation. We see that the false negative rates for males has decreased to 0, however the false positive rates have stayed the same. This indicates that while this classifier helps reduce disparity by improving male false negative rates (thereby ensuring that males who have heart disease are correctly diagnosed), it fails to improve fairness associated with male false positive rates, therefore the same rate of males that do not have heart disease get flagged as having heart disease (thereby continuing to lead to unnecessary medical intervention depending on context of use)."
   ]
  },
  {
   "cell_type": "markdown",
   "metadata": {},
   "source": [
    "## Reject Option Classification"
   ]
  },
  {
   "cell_type": "code",
   "execution_count": 467,
   "metadata": {},
   "outputs": [],
   "source": [
    "dataset_test_pred = dataset_test.copy(deepcopy = True)\n",
    "\n",
    "dataset_test_pred.scores = LR.predict_proba(X_test)[:,1].reshape(-1,1)\n",
    "\n",
    "ROC = RejectOptionClassification(unprivileged_groups, privileged_groups, metric_name='Average odds difference')\n",
    "\n",
    "test_pred = ROC.fit_predict(dataset_test, dataset_test_pred)"
   ]
  },
  {
   "cell_type": "code",
   "execution_count": 468,
   "metadata": {},
   "outputs": [
    {
     "name": "stdout",
     "output_type": "stream",
     "text": [
      "Accuracy on the Test Set = 0.8688524590163934\n",
      "Privileged Accuracy on the Test Set = 1.0\n",
      "Unprivileged Accuracy on the Test Set = 0.8181818181818182\n",
      "--------------------------------------\n",
      "\n",
      "Disparate Impact on the Test Set = 0.6439393939393939\n",
      "--------------------------------------\n",
      "\n",
      "False Positive Rate on the Test Set = 0.1111111111111111\n",
      "False Positive Rate Privileged on the Test Set = 0.0\n",
      "False Positive Rate Unprivileged on the Test Set = 0.13636363636363635\n",
      "False Positive Rate Difference on the Test Set = 0.13636363636363635\n",
      "--------------------------------------\n",
      "\n",
      "False Negative Rate on the Test Set = 0.14705882352941177\n",
      "False Negative Rate Privileged on the Test Set = 0.0\n",
      "False Negative Rate Unprivileged on the Test Set = 0.22727272727272727\n",
      "False Negative Rate Difference on the Test Set = 0.22727272727272727\n"
     ]
    }
   ],
   "source": [
    "metrics_calibrated = get_metrics(test_pred.labels.flatten(), test_full, \"target\", \"sex_male\", privileged_groups, unprivileged_groups)\n"
   ]
  },
  {
   "cell_type": "code",
   "execution_count": 469,
   "metadata": {},
   "outputs": [
    {
     "data": {
      "image/png": "[encoded data removed]",
      "text/plain": [
       "<Figure size 1440x432 with 3 Axes>"
      ]
     },
     "metadata": {
      "needs_background": "light"
     },
     "output_type": "display_data"
    }
   ],
   "source": [
    "fig, ax = plt.subplots(1,3, figsize=(20,6))\n",
    "\n",
    "ax[0].bar([\"females\", \"males\"], [metrics_calibrated.error_rate(privileged=True), metrics_calibrated.error_rate(privileged=False)], \n",
    "          color = ['grey', 'violet'])\n",
    "ax[1].bar([\"females\", \"males\"], [metrics_calibrated.false_positive_rate(privileged=True),\n",
    "                 metrics_calibrated.false_positive_rate(privileged=False)], color = ['grey', 'violet'])\n",
    "ax[2].bar([\"females\", \"males\"], [metrics_calibrated.false_negative_rate(privileged=True), \n",
    "                 metrics_calibrated.false_negative_rate(privileged=False)], color = ['grey', 'violet'])\n",
    "\n",
    "ax[0].set_title('Error Rate by Sex')\n",
    "ax[1].set_title('False Positive Rate by Sex')\n",
    "ax[2].set_title('False Negative Rate by Sex')\n",
    "\n",
    "ax[0].set_ylim(0, 1)\n",
    "ax[1].set_ylim(0, 1)\n",
    "ax[2].set_ylim(0, 1)\n",
    "\n",
    "plt.show()"
   ]
  },
  {
   "cell_type": "code",
   "execution_count": 470,
   "metadata": {},
   "outputs": [
    {
     "data": {
      "image/png": "[encoded data removed]",
      "text/plain": [
       "<Figure size 1440x432 with 2 Axes>"
      ]
     },
     "metadata": {
      "needs_background": "light"
     },
     "output_type": "display_data"
    }
   ],
   "source": [
    "fig, ax = plt.subplots(1,2, figsize=(20,6))\n",
    "\n",
    "ax[0].bar([\"original\", \"reweighted\", \"ROC\"], [metrics.accuracy(), repaired_metrics.accuracy(), metrics_calibrated.accuracy()], \n",
    "          color = ['lightgrey', 'violet', \"purple\"])\n",
    "ax[1].bar([\"original\", \"reweighted\", \"ROC\"], [metrics.disparate_impact(), repaired_metrics.disparate_impact(), metrics_calibrated.disparate_impact()], \n",
    "          color = ['lightgrey', 'violet', \"purple\"])\n",
    "\n",
    "ax[0].set_title('Accuracy')\n",
    "ax[1].set_title('Disparate Impact')\n",
    "\n",
    "ax[0].set_ylim(0, 1)\n",
    "ax[1].set_ylim(0, 1)\n",
    "\n",
    "plt.show()"
   ]
  },
  {
   "cell_type": "code",
   "execution_count": 471,
   "metadata": {},
   "outputs": [
    {
     "data": {
      "image/png": "[encoded data removed]",
      "text/plain": [
       "<Figure size 1440x432 with 2 Axes>"
      ]
     },
     "metadata": {
      "needs_background": "light"
     },
     "output_type": "display_data"
    }
   ],
   "source": [
    "fig, ax = plt.subplots(1,2, figsize=(20,6))\n",
    "\n",
    "ax[0].bar([\"original\", \"reweighted\", \"ROC\"], [metrics.false_positive_rate_difference(), repaired_metrics.false_positive_rate_difference(), metrics_calibrated.false_positive_rate_difference()], \n",
    "          color = ['lightgrey', 'violet', \"purple\"])\n",
    "ax[1].bar([\"original\", \"reweighted\", \"ROC\"], [metrics.false_negative_rate_difference(), repaired_metrics.false_negative_rate_difference(), metrics_calibrated.false_negative_rate_difference()], \n",
    "          color = ['lightgrey', 'violet', \"purple\"])\n",
    "\n",
    "ax[0].set_title('False Positive Rate Difference')\n",
    "ax[1].set_title('False Negative Rate Difference')\n",
    "\n",
    "ax[0].set_ylim(0, 0.5)\n",
    "ax[1].set_ylim(0, 0.5)\n",
    "\n",
    "plt.show()"
   ]
  },
  {
   "cell_type": "code",
   "execution_count": 472,
   "metadata": {},
   "outputs": [
    {
     "data": {
      "image/png": "[encoded data removed]",
      "text/plain": [
       "<Figure size 1440x432 with 2 Axes>"
      ]
     },
     "metadata": {
      "needs_background": "light"
     },
     "output_type": "display_data"
    }
   ],
   "source": [
    "fig, ax = plt.subplots(1,2, figsize=(20,6))\n",
    "\n",
    "ax[0].bar([\"original\", \"reweighted\", \"ROC\"], [metrics.false_positive_rate(privileged=False), repaired_metrics.false_positive_rate(privileged=False), metrics_calibrated.false_positive_rate(privileged=False)], \n",
    "          color = ['lightgrey', 'violet', \"purple\"])\n",
    "ax[1].bar([\"original\", \"reweighted\", \"ROC\"], [metrics.false_negative_rate(privileged=False), repaired_metrics.false_negative_rate(privileged=False), metrics_calibrated.false_negative_rate(privileged=False)], \n",
    "          color = ['lightgrey', 'violet', \"purple\"])\n",
    "\n",
    "ax[0].set_title('False Positive Rate For Males')\n",
    "ax[1].set_title('False Negative Rate For Males')\n",
    "\n",
    "ax[0].set_ylim(0, 0.4)\n",
    "ax[1].set_ylim(0, 0.4)\n",
    "\n",
    "plt.show()"
   ]
  },
  {
   "cell_type": "markdown",
   "metadata": {},
   "source": [
    "Key Observations:\n",
    "* First we observe that ROC that optimizes on Average odds difference leads to the worst disparate impact (decreasing it to 0.64). This is not unexpected since we are optimizing on odds difference instead of statistical parity. Recall that this is a tradeoff we intentionally make if we don't believe that having equal heart disease prediction rates is necessary for fairness, but rather fewer false positive disparity is more necessary.\n",
    "* Since this also achieves 100\\% accuracy on females, we will focus on different error rates for Males. When looking at error rates, we see that ROC results in fewer false positives for males compared to both the original model as well as the reweighing approach. However, it results in a much larger false negative rate for males. Whether this tradeoff improves fairness and impact to males depends on context of use. If this is an early warning tool to identify people with potential heart disease, this would make the impact worse because fewer males with actual heart disease would get diagnosed early given high false negatives. However, if it is a tool that would result in invasive medical tests, then fewer false positives would mean that fewer males are subject to those medical tests unnecessarily."
   ]
  },
  {
   "cell_type": "code",
   "execution_count": null,
   "metadata": {},
   "outputs": [],
   "source": []
  },
  {
   "cell_type": "code",
   "execution_count": null,
   "metadata": {},
   "outputs": [],
   "source": []
  },
  {
   "cell_type": "code",
   "execution_count": null,
   "metadata": {},
   "outputs": [],
   "source": []
  }
 ],
 "metadata": {
  "kernelspec": {
   "display_name": "Python 3",
   "language": "python",
   "name": "python3"
  },
  "language_info": {
   "codemirror_mode": {
    "name": "ipython",
    "version": 3
   },
   "file_extension": ".py",
   "mimetype": "text/x-python",
   "name": "python",
   "nbconvert_exporter": "python",
   "pygments_lexer": "ipython3",
   "version": "3.8.3"
  }
 },
 "nbformat": 4,
 "nbformat_minor": 4
}
